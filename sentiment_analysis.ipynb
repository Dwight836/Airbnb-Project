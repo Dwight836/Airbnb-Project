{
 "cells": [
  {
   "cell_type": "code",
   "execution_count": null,
   "id": "35155415",
   "metadata": {},
   "outputs": [],
   "source": []
  },
  {
   "cell_type": "code",
   "execution_count": 1,
   "id": "b76015f3",
   "metadata": {},
   "outputs": [
    {
     "name": "stdout",
     "output_type": "stream",
     "text": [
      "Intel MKL WARNING: Support of Intel(R) Streaming SIMD Extensions 4.2 (Intel(R) SSE4.2) enabled only processors has been deprecated. Intel oneAPI Math Kernel Library 2025.0 will require Intel(R) Advanced Vector Extensions (Intel(R) AVX) instructions.\n",
      "Intel MKL WARNING: Support of Intel(R) Streaming SIMD Extensions 4.2 (Intel(R) SSE4.2) enabled only processors has been deprecated. Intel oneAPI Math Kernel Library 2025.0 will require Intel(R) Advanced Vector Extensions (Intel(R) AVX) instructions.\n"
     ]
    }
   ],
   "source": [
    "# imports from predefined functions\n",
    "from database_pulls import query_reader\n",
    "from sentiment_analysis import vader_analysis\n",
    "import pandas as pd\n",
    "import matplotlib.pyplot as plt\n",
    "import seaborn as sns\n",
    "import sqlite3 \n",
    "from ipywidgets import interact, interactive, fixed, interact_manual\n",
    "import ipywidgets as widgets\n",
    "from text_library import Textastic "
   ]
  },
  {
   "cell_type": "code",
   "execution_count": 2,
   "id": "37617e92",
   "metadata": {},
   "outputs": [],
   "source": [
    "# old query with comments, leaving out to see if affects runtime\n",
    "query_location = \"\"\"\n",
    "SELECT listing_id, latitude, longitude, comments, REPLACE(price, '$', '') as price, neighbourhood_cleansed\n",
    "FROM reviews JOIN listings ON reviews.listing_id = listings.id;\n",
    "\"\"\""
   ]
  },
  {
   "cell_type": "code",
   "execution_count": 3,
   "id": "db3ed54d",
   "metadata": {},
   "outputs": [],
   "source": [
    "database = 'airbnb2.db'\n",
    "\n",
    "query_location = \"\"\"\n",
    "SELECT listing_id, latitude, longitude, comments, REPLACE(price, '$', '') as price, neighbourhood_cleansed\n",
    "FROM reviews JOIN listings ON reviews.listing_id = listings.id;\n",
    "\"\"\"\n",
    "\n",
    "# Creates / filters Dataframe, finds sentiment score /// This takes some time\n",
    "df_location = query_reader(query_location, database)\n",
    "df_location['scores'] = df_location['comments'].apply(vader_analysis)\n",
    "df_location['price'] = df_location['price'].str.replace(',', '', regex=True).astype(float)\n",
    "\n",
    "# This filters out the exact zero scores, which aren't processed\n",
    "df_loc = df_location[df_location['scores'] != 0 ]"
   ]
  },
  {
   "cell_type": "code",
   "execution_count": 4,
   "id": "175214cf",
   "metadata": {},
   "outputs": [],
   "source": [
    "# Filter host-names column from Dataframe into stopwords to remove host names"
   ]
  },
  {
   "cell_type": "code",
   "execution_count": 5,
   "id": "5713bdad",
   "metadata": {},
   "outputs": [],
   "source": [
    "# One big string glob of ALL the reviews for a particular unit?\n",
    "# Write to a text file and then do Textastic analysis on the highest rated ones\n",
    "# Concatenate ALL of the reviews into one. Will this work? I do not care. "
   ]
  },
  {
   "cell_type": "code",
   "execution_count": 6,
   "id": "d4484f46",
   "metadata": {},
   "outputs": [],
   "source": [
    "# Do more active Airbnb Hosts get consistenly higher reviews?\n",
    "query = \"\"\"SELECT listing_id, COUNT(*) as num_reviews\n",
    "FROM reviews\n",
    "GROUP BY listing_id\n",
    "ORDER BY num_reviews DESC;\"\"\"\n",
    "df_listing = query_reader(query, database)"
   ]
  },
  {
   "cell_type": "code",
   "execution_count": 7,
   "id": "8c273865",
   "metadata": {},
   "outputs": [
    {
     "data": {
      "text/html": [
       "<div>\n",
       "<style scoped>\n",
       "    .dataframe tbody tr th:only-of-type {\n",
       "        vertical-align: middle;\n",
       "    }\n",
       "\n",
       "    .dataframe tbody tr th {\n",
       "        vertical-align: top;\n",
       "    }\n",
       "\n",
       "    .dataframe thead th {\n",
       "        text-align: right;\n",
       "    }\n",
       "</style>\n",
       "<table border=\"1\" class=\"dataframe\">\n",
       "  <thead>\n",
       "    <tr style=\"text-align: right;\">\n",
       "      <th></th>\n",
       "      <th>listing_id</th>\n",
       "      <th>num_reviews</th>\n",
       "    </tr>\n",
       "  </thead>\n",
       "  <tbody>\n",
       "    <tr>\n",
       "      <th>0</th>\n",
       "      <td>4090224</td>\n",
       "      <td>821</td>\n",
       "    </tr>\n",
       "    <tr>\n",
       "      <th>1</th>\n",
       "      <td>815639</td>\n",
       "      <td>761</td>\n",
       "    </tr>\n",
       "    <tr>\n",
       "      <th>2</th>\n",
       "      <td>18290558</td>\n",
       "      <td>758</td>\n",
       "    </tr>\n",
       "    <tr>\n",
       "      <th>3</th>\n",
       "      <td>916123</td>\n",
       "      <td>750</td>\n",
       "    </tr>\n",
       "    <tr>\n",
       "      <th>4</th>\n",
       "      <td>18584891</td>\n",
       "      <td>691</td>\n",
       "    </tr>\n",
       "  </tbody>\n",
       "</table>\n",
       "</div>"
      ],
      "text/plain": [
       "   listing_id  num_reviews\n",
       "0     4090224          821\n",
       "1      815639          761\n",
       "2    18290558          758\n",
       "3      916123          750\n",
       "4    18584891          691"
      ]
     },
     "execution_count": 7,
     "metadata": {},
     "output_type": "execute_result"
    }
   ],
   "source": [
    "df_listing.head()"
   ]
  },
  {
   "cell_type": "code",
   "execution_count": 8,
   "id": "e3a0c36a",
   "metadata": {},
   "outputs": [],
   "source": [
    "# I'd like to extract the comments of the K best rated Airbnbs, analyze them, and then do other stuff\n",
    "# This should increase performance since we're only doing VADER analysis on K * n samples instead of 160k\n",
    "# This should probably be faster\n",
    "# Going to describe what I want to do in plain English because I do not want to write code right now"
   ]
  },
  {
   "cell_type": "code",
   "execution_count": 9,
   "id": "23615ef8",
   "metadata": {},
   "outputs": [],
   "source": [
    "# Plan for Friday / Saturday / Sunday\n",
    "# How to finish a project in 4 days\n",
    "\n",
    "# 1. Select the K top most rated listings. Min_reviews parameter optional. Probably with some join.\n",
    "# 2. Extract the comments and squish together into one large string\n",
    "# 3. Save those strings as K different text files \n",
    "# 4. Run it through Textastic framework for Sankey visualization\n",
    "# 5. Iteratively modify stopwords file to remove common jargon\n",
    "# 6. Hopefully have a decently good-looking deliverable\n",
    "# 7. Formulate policy recommendations based on Sankey results\n",
    "# 8. Apply statistical analysis techniques to build out a model\n",
    "# 9. Create some interesting visualizations\n",
    "# 10. Profit. "
   ]
  },
  {
   "cell_type": "code",
   "execution_count": 10,
   "id": "4c9f9ab9",
   "metadata": {},
   "outputs": [],
   "source": [
    "# Each listing has it's own set of comments, sankey a listing as source and a combined text file as the targets?"
   ]
  },
  {
   "cell_type": "code",
   "execution_count": 11,
   "id": "82df6f63",
   "metadata": {},
   "outputs": [],
   "source": [
    "df_location2 = df_loc.groupby('listing_id').agg({'price': 'mean', 'scores': 'mean'}).reset_index()\n",
    "unranked_scores = df_location2.sort_values(by='listing_id', ascending=False)"
   ]
  },
  {
   "cell_type": "code",
   "execution_count": 12,
   "id": "c532c823",
   "metadata": {},
   "outputs": [
    {
     "data": {
      "text/html": [
       "<div>\n",
       "<style scoped>\n",
       "    .dataframe tbody tr th:only-of-type {\n",
       "        vertical-align: middle;\n",
       "    }\n",
       "\n",
       "    .dataframe tbody tr th {\n",
       "        vertical-align: top;\n",
       "    }\n",
       "\n",
       "    .dataframe thead th {\n",
       "        text-align: right;\n",
       "    }\n",
       "</style>\n",
       "<table border=\"1\" class=\"dataframe\">\n",
       "  <thead>\n",
       "    <tr style=\"text-align: right;\">\n",
       "      <th></th>\n",
       "      <th>listing_id</th>\n",
       "      <th>price</th>\n",
       "      <th>scores</th>\n",
       "    </tr>\n",
       "  </thead>\n",
       "  <tbody>\n",
       "    <tr>\n",
       "      <th>2713</th>\n",
       "      <td>841300163917010243</td>\n",
       "      <td>318.0</td>\n",
       "      <td>0.475400</td>\n",
       "    </tr>\n",
       "    <tr>\n",
       "      <th>2712</th>\n",
       "      <td>837676098532127827</td>\n",
       "      <td>184.0</td>\n",
       "      <td>0.673433</td>\n",
       "    </tr>\n",
       "    <tr>\n",
       "      <th>2711</th>\n",
       "      <td>837665944621160923</td>\n",
       "      <td>137.0</td>\n",
       "      <td>0.797900</td>\n",
       "    </tr>\n",
       "    <tr>\n",
       "      <th>2710</th>\n",
       "      <td>837538755134178518</td>\n",
       "      <td>172.0</td>\n",
       "      <td>0.475400</td>\n",
       "    </tr>\n",
       "    <tr>\n",
       "      <th>2709</th>\n",
       "      <td>835104074261525866</td>\n",
       "      <td>65.0</td>\n",
       "      <td>0.726300</td>\n",
       "    </tr>\n",
       "  </tbody>\n",
       "</table>\n",
       "</div>"
      ],
      "text/plain": [
       "              listing_id  price    scores\n",
       "2713  841300163917010243  318.0  0.475400\n",
       "2712  837676098532127827  184.0  0.673433\n",
       "2711  837665944621160923  137.0  0.797900\n",
       "2710  837538755134178518  172.0  0.475400\n",
       "2709  835104074261525866   65.0  0.726300"
      ]
     },
     "execution_count": 12,
     "metadata": {},
     "output_type": "execute_result"
    }
   ],
   "source": [
    "unranked_scores.head()"
   ]
  },
  {
   "cell_type": "code",
   "execution_count": null,
   "id": "fc2101f3",
   "metadata": {},
   "outputs": [],
   "source": []
  },
  {
   "cell_type": "code",
   "execution_count": 13,
   "id": "ba72e65d",
   "metadata": {},
   "outputs": [
    {
     "data": {
      "image/png": "[encoded data removed]",
      "text/plain": [
       "<Figure size 640x480 with 1 Axes>"
      ]
     },
     "metadata": {},
     "output_type": "display_data"
    }
   ],
   "source": [
    "# Plots distribution of scores after removing zeros\n",
    "sns.histplot(df_loc.scores)\n",
    "plt.show()"
   ]
  },
  {
   "cell_type": "code",
   "execution_count": 14,
   "id": "31c98b20",
   "metadata": {},
   "outputs": [
    {
     "data": {
      "image/png": "[encoded data removed]",
      "text/plain": [
       "<Figure size 640x480 with 1 Axes>"
      ]
     },
     "metadata": {},
     "output_type": "display_data"
    }
   ],
   "source": [
    "# Plots distribution of scores WITHOUT removing zeros\n",
    "sns.histplot(df_location.scores)\n",
    "plt.show()"
   ]
  },
  {
   "cell_type": "code",
   "execution_count": 15,
   "id": "48752e42",
   "metadata": {},
   "outputs": [],
   "source": [
    "def review_combiner(listing_id):\n",
    "    \"\"\"Given listing_id, creates a text blob of all their reviews\"\"\"\n",
    "    \n",
    "    # Create key value pair\n",
    "    review_dict = {}\n",
    "\n",
    "    # Creates list of comments with desired id and empty string\n",
    "    comments = (df_location[df_location['listing_id']==listing_id])['comments']\n",
    "    string = \"\"\n",
    "\n",
    "    # Concatenates comments to one string\n",
    "    for comment in comments:\n",
    "        string += comment \n",
    "        \n",
    "    return string\n"
   ]
  },
  {
   "cell_type": "code",
   "execution_count": 16,
   "id": "e1cfe9a2",
   "metadata": {},
   "outputs": [],
   "source": [
    "unranked_scores['text_blob'] = unranked_scores['listing_id'].apply(review_combiner)\n",
    "df_ranked = unranked_scores.sort_values(by='listing_id')\n",
    "df_listing2 = df_listing.sort_values(by='listing_id')"
   ]
  },
  {
   "cell_type": "code",
   "execution_count": 17,
   "id": "2ac5d4f7",
   "metadata": {},
   "outputs": [
    {
     "data": {
      "text/html": [
       "<div>\n",
       "<style scoped>\n",
       "    .dataframe tbody tr th:only-of-type {\n",
       "        vertical-align: middle;\n",
       "    }\n",
       "\n",
       "    .dataframe tbody tr th {\n",
       "        vertical-align: top;\n",
       "    }\n",
       "\n",
       "    .dataframe thead th {\n",
       "        text-align: right;\n",
       "    }\n",
       "</style>\n",
       "<table border=\"1\" class=\"dataframe\">\n",
       "  <thead>\n",
       "    <tr style=\"text-align: right;\">\n",
       "      <th></th>\n",
       "      <th>listing_id</th>\n",
       "      <th>price</th>\n",
       "      <th>scores</th>\n",
       "      <th>text_blob</th>\n",
       "      <th>num_reviews</th>\n",
       "    </tr>\n",
       "  </thead>\n",
       "  <tbody>\n",
       "    <tr>\n",
       "      <th>0</th>\n",
       "      <td>3781</td>\n",
       "      <td>132.0</td>\n",
       "      <td>0.902479</td>\n",
       "      <td>The apartment was as advertised and Frank was ...</td>\n",
       "      <td>24</td>\n",
       "    </tr>\n",
       "    <tr>\n",
       "      <th>1</th>\n",
       "      <td>5506</td>\n",
       "      <td>149.0</td>\n",
       "      <td>0.849666</td>\n",
       "      <td>Terry's Hotel Alterntv in Boston was a perfect...</td>\n",
       "      <td>118</td>\n",
       "    </tr>\n",
       "    <tr>\n",
       "      <th>2</th>\n",
       "      <td>6695</td>\n",
       "      <td>179.0</td>\n",
       "      <td>0.861175</td>\n",
       "      <td>Terry's apartment is beautifully decorated and...</td>\n",
       "      <td>123</td>\n",
       "    </tr>\n",
       "    <tr>\n",
       "      <th>3</th>\n",
       "      <td>8789</td>\n",
       "      <td>90.0</td>\n",
       "      <td>0.864846</td>\n",
       "      <td>Great accommodations for the price and nearby ...</td>\n",
       "      <td>25</td>\n",
       "    </tr>\n",
       "    <tr>\n",
       "      <th>4</th>\n",
       "      <td>10813</td>\n",
       "      <td>120.0</td>\n",
       "      <td>0.798325</td>\n",
       "      <td>The host canceled this reservation the day bef...</td>\n",
       "      <td>5</td>\n",
       "    </tr>\n",
       "  </tbody>\n",
       "</table>\n",
       "</div>"
      ],
      "text/plain": [
       "   listing_id  price    scores  \\\n",
       "0        3781  132.0  0.902479   \n",
       "1        5506  149.0  0.849666   \n",
       "2        6695  179.0  0.861175   \n",
       "3        8789   90.0  0.864846   \n",
       "4       10813  120.0  0.798325   \n",
       "\n",
       "                                           text_blob  num_reviews  \n",
       "0  The apartment was as advertised and Frank was ...           24  \n",
       "1  Terry's Hotel Alterntv in Boston was a perfect...          118  \n",
       "2  Terry's apartment is beautifully decorated and...          123  \n",
       "3  Great accommodations for the price and nearby ...           25  \n",
       "4  The host canceled this reservation the day bef...            5  "
      ]
     },
     "execution_count": 17,
     "metadata": {},
     "output_type": "execute_result"
    }
   ],
   "source": [
    "# Creates merged DataFrame \n",
    "df_merge = pd.merge(df_ranked, df_listing2, on='listing_id')\n",
    "df_merge.head()"
   ]
  },
  {
   "cell_type": "code",
   "execution_count": 18,
   "id": "1553ee18",
   "metadata": {},
   "outputs": [
    {
     "data": {
      "text/html": [
       "<div>\n",
       "<style scoped>\n",
       "    .dataframe tbody tr th:only-of-type {\n",
       "        vertical-align: middle;\n",
       "    }\n",
       "\n",
       "    .dataframe tbody tr th {\n",
       "        vertical-align: top;\n",
       "    }\n",
       "\n",
       "    .dataframe thead th {\n",
       "        text-align: right;\n",
       "    }\n",
       "</style>\n",
       "<table border=\"1\" class=\"dataframe\">\n",
       "  <thead>\n",
       "    <tr style=\"text-align: right;\">\n",
       "      <th></th>\n",
       "      <th>listing_id</th>\n",
       "      <th>price</th>\n",
       "      <th>scores</th>\n",
       "      <th>text_blob</th>\n",
       "      <th>num_reviews</th>\n",
       "      <th>neighborhood</th>\n",
       "    </tr>\n",
       "  </thead>\n",
       "  <tbody>\n",
       "    <tr>\n",
       "      <th>0</th>\n",
       "      <td>3781</td>\n",
       "      <td>132.0</td>\n",
       "      <td>0.902479</td>\n",
       "      <td>The apartment was as advertised and Frank was ...</td>\n",
       "      <td>24</td>\n",
       "      <td>East Boston</td>\n",
       "    </tr>\n",
       "    <tr>\n",
       "      <th>1</th>\n",
       "      <td>5506</td>\n",
       "      <td>149.0</td>\n",
       "      <td>0.849666</td>\n",
       "      <td>Terry's Hotel Alterntv in Boston was a perfect...</td>\n",
       "      <td>118</td>\n",
       "      <td>Roxbury</td>\n",
       "    </tr>\n",
       "    <tr>\n",
       "      <th>2</th>\n",
       "      <td>6695</td>\n",
       "      <td>179.0</td>\n",
       "      <td>0.861175</td>\n",
       "      <td>Terry's apartment is beautifully decorated and...</td>\n",
       "      <td>123</td>\n",
       "      <td>Dorchester</td>\n",
       "    </tr>\n",
       "    <tr>\n",
       "      <th>3</th>\n",
       "      <td>8789</td>\n",
       "      <td>90.0</td>\n",
       "      <td>0.864846</td>\n",
       "      <td>Great accommodations for the price and nearby ...</td>\n",
       "      <td>25</td>\n",
       "      <td>South End</td>\n",
       "    </tr>\n",
       "    <tr>\n",
       "      <th>4</th>\n",
       "      <td>10813</td>\n",
       "      <td>120.0</td>\n",
       "      <td>0.798325</td>\n",
       "      <td>The host canceled this reservation the day bef...</td>\n",
       "      <td>5</td>\n",
       "      <td>Roxbury</td>\n",
       "    </tr>\n",
       "  </tbody>\n",
       "</table>\n",
       "</div>"
      ],
      "text/plain": [
       "   listing_id  price    scores  \\\n",
       "0        3781  132.0  0.902479   \n",
       "1        5506  149.0  0.849666   \n",
       "2        6695  179.0  0.861175   \n",
       "3        8789   90.0  0.864846   \n",
       "4       10813  120.0  0.798325   \n",
       "\n",
       "                                           text_blob  num_reviews neighborhood  \n",
       "0  The apartment was as advertised and Frank was ...           24  East Boston  \n",
       "1  Terry's Hotel Alterntv in Boston was a perfect...          118      Roxbury  \n",
       "2  Terry's apartment is beautifully decorated and...          123   Dorchester  \n",
       "3  Great accommodations for the price and nearby ...           25    South End  \n",
       "4  The host canceled this reservation the day bef...            5      Roxbury  "
      ]
     },
     "execution_count": 18,
     "metadata": {},
     "output_type": "execute_result"
    }
   ],
   "source": [
    "# Adds neighborhood to df_merge\n",
    "id_town_dict = {}\n",
    "\n",
    "for i, listing_id in enumerate(df_loc['listing_id'].values):\n",
    "    id_town_dict[listing_id] = df_loc['neighbourhood_cleansed'].values[i]\n",
    "\n",
    "df_merge['neighborhood'] = id_town_dict.values()\n",
    "df_merge.head()"
   ]
  },
  {
   "cell_type": "code",
   "execution_count": 19,
   "id": "f01070a8",
   "metadata": {},
   "outputs": [
    {
     "data": {
      "image/png": "[encoded data removed]",
      "text/plain": [
       "<Figure size 640x480 with 1 Axes>"
      ]
     },
     "metadata": {},
     "output_type": "display_data"
    }
   ],
   "source": [
    "# Visualizing distribution of number of reviews\n",
    "plt.hist(df_merge.num_reviews, bins=20)\n",
    "plt.show()"
   ]
  },
  {
   "cell_type": "code",
   "execution_count": 20,
   "id": "7f715fa8",
   "metadata": {},
   "outputs": [],
   "source": [
    "drop = widgets.Dropdown(\n",
    "    options=df_merge['neighborhood'].unique(),\n",
    "    value='South End',\n",
    "    description='Neighborhood:',\n",
    "    disabled=False,\n",
    ")"
   ]
  },
  {
   "cell_type": "code",
   "execution_count": 21,
   "id": "0786c06a",
   "metadata": {},
   "outputs": [],
   "source": [
    "k = widgets.IntSlider(\n",
    "    value=5,\n",
    "    min=1,\n",
    "    max=10,\n",
    "    step=1,\n",
    "    description=\"Listings\",\n",
    "    orientation='vertical'\n",
    ")"
   ]
  },
  {
   "cell_type": "code",
   "execution_count": 22,
   "id": "e96bed6f",
   "metadata": {},
   "outputs": [],
   "source": [
    "min_reviews = widgets.IntSlider(\n",
    "    value=50,\n",
    "    min=10,\n",
    "    max=500,\n",
    "    step=10,\n",
    "    description='Minimum Reviews'\n",
    ")"
   ]
  },
  {
   "cell_type": "code",
   "execution_count": 23,
   "id": "8011f282",
   "metadata": {},
   "outputs": [],
   "source": [
    "def limit_sort(neighborhood=drop, k=5, min_reviews=100, ascending=False):\n",
    "    \"\"\" Selects K most highly rated properties from given neighborhood given min_reviews\"\"\"\n",
    "    \n",
    "    place = df_merge[df_merge['num_reviews']>=min_reviews]\n",
    "    place = place[place['neighborhood']==neighborhood]\n",
    "    place = place.sort_values(by='scores', ascending=ascending)\n",
    "    if len(place) < k:\n",
    "        \n",
    "        return place\n",
    "    \n",
    "    elif len(place) >= k:\n",
    "        return place[:k]"
   ]
  },
  {
   "cell_type": "code",
   "execution_count": 27,
   "id": "c2907142",
   "metadata": {},
   "outputs": [],
   "source": [
    "# Stopwords read in manually\n",
    "### Stopwords can be manually added to the set of words to remove\n",
    "df_words = pd.read_csv('combined.csv')\n",
    "Textastic.stop_words = set(df_words['name'].values)\n",
    "Textastic.stop_words.add('')\n",
    "Textastic.stop_words.add('home')\n",
    "Textastic.stop_words.add('room')"
   ]
  },
  {
   "cell_type": "code",
   "execution_count": 29,
   "id": "28f2b361",
   "metadata": {},
   "outputs": [
    {
     "data": {
      "application/vnd.jupyter.widget-view+json": {
       "model_id": "283bd766c27d4ebfb42f641f3f00bfb2",
       "version_major": 2,
       "version_minor": 0
      },
      "text/plain": [
       "interactive(children=(Dropdown(description='Neighborhood:', index=3, options=('East Boston', 'Roxbury', 'Dorch…"
      ]
     },
     "metadata": {},
     "output_type": "display_data"
    }
   ],
   "source": [
    "@interact(neighborhood=drop, k=k, min_reviews=min_reviews)\n",
    "def plot_sankey(neighborhood, k, min_reviews):\n",
    "    \n",
    "    # Creates instance of text library object\n",
    "    tt = Textastic()\n",
    "    df = limit_sort(neighborhood, k, min_reviews)\n",
    "    for i, text_blob in enumerate(df['text_blob'].values):\n",
    "        filename = 'sample'+f'{i}'+'.txt'\n",
    "\n",
    "        f = open(filename, 'w')\n",
    "        f.write(text_blob)\n",
    "        tt.load_text(filename, label=f'#{i+1} Best Rental')\n",
    "        f.close()\n",
    "        \n",
    "    tt.make_sankey(k=5)\n",
    "\n"
   ]
  },
  {
   "cell_type": "code",
   "execution_count": null,
   "id": "6e4029ab",
   "metadata": {},
   "outputs": [],
   "source": []
  },
  {
   "cell_type": "code",
   "execution_count": null,
   "id": "a507bf11",
   "metadata": {},
   "outputs": [],
   "source": []
  }
 ],
 "metadata": {
  "kernelspec": {
   "display_name": "Python 3 (ipykernel)",
   "language": "python",
   "name": "python3"
  },
  "language_info": {
   "codemirror_mode": {
    "name": "ipython",
    "version": 3
   },
   "file_extension": ".py",
   "mimetype": "text/x-python",
   "name": "python",
   "nbconvert_exporter": "python",
   "pygments_lexer": "ipython3",
   "version": "3.11.5"
  }
 },
 "nbformat": 4,
 "nbformat_minor": 5
}
