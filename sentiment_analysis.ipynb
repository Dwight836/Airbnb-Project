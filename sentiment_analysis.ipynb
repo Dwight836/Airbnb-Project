{
 "cells": [
  {
   "cell_type": "code",
   "execution_count": null,
   "id": "3a82c5fd",
   "metadata": {},
   "outputs": [],
   "source": []
  },
  {
   "cell_type": "code",
   "execution_count": 11,
   "id": "b76015f3",
   "metadata": {},
   "outputs": [],
   "source": [
    "# imports from predefined functions\n",
    "from database_pulls import query_reader\n",
    "from sentiment_analysis import vader_analysis\n",
    "import pandas as pd\n",
    "import matplotlib.pyplot as plt\n",
    "import seaborn as sns"
   ]
  },
  {
   "cell_type": "code",
   "execution_count": 34,
   "id": "db3ed54d",
   "metadata": {},
   "outputs": [],
   "source": [
    "database = 'airbnb2.db'\n",
    "\n",
    "query_location = \"\"\"\n",
    "SELECT listing_id, latitude, longitude, comments, REPLACE(price, '$', '') as price, neighbourhood_cleansed\n",
    "FROM reviews JOIN listings ON reviews.listing_id = listings.id;\n",
    "\"\"\"\n",
    "\n",
    "# Creates / filters Dataframe, finds sentiment score /// This takes some time\n",
    "df_location = query_reader(query_location, database)\n",
    "df_location['scores'] = df_location['comments'].apply(vader_analysis)\n",
    "df_location['price'] = df_location['price'].str.replace(',', '', regex=True).astype(float)"
   ]
  },
  {
   "cell_type": "code",
   "execution_count": 36,
   "id": "7eb0e667",
   "metadata": {},
   "outputs": [
    {
     "data": {
      "text/html": [
       "<div>\n",
       "<style scoped>\n",
       "    .dataframe tbody tr th:only-of-type {\n",
       "        vertical-align: middle;\n",
       "    }\n",
       "\n",
       "    .dataframe tbody tr th {\n",
       "        vertical-align: top;\n",
       "    }\n",
       "\n",
       "    .dataframe thead th {\n",
       "        text-align: right;\n",
       "    }\n",
       "</style>\n",
       "<table border=\"1\" class=\"dataframe\">\n",
       "  <thead>\n",
       "    <tr style=\"text-align: right;\">\n",
       "      <th></th>\n",
       "      <th>listing_id</th>\n",
       "      <th>latitude</th>\n",
       "      <th>longitude</th>\n",
       "      <th>comments</th>\n",
       "      <th>price</th>\n",
       "      <th>neighbourhood_cleansed</th>\n",
       "      <th>scores</th>\n",
       "    </tr>\n",
       "  </thead>\n",
       "  <tbody>\n",
       "    <tr>\n",
       "      <th>0</th>\n",
       "      <td>3781</td>\n",
       "      <td>42.36413</td>\n",
       "      <td>-71.02991</td>\n",
       "      <td>The apartment was as advertised and Frank was ...</td>\n",
       "      <td>132.0</td>\n",
       "      <td>East Boston</td>\n",
       "      <td>0.8070</td>\n",
       "    </tr>\n",
       "    <tr>\n",
       "      <th>1</th>\n",
       "      <td>3781</td>\n",
       "      <td>42.36413</td>\n",
       "      <td>-71.02991</td>\n",
       "      <td>It was a pleasure to stay at Frank's place. Th...</td>\n",
       "      <td>132.0</td>\n",
       "      <td>East Boston</td>\n",
       "      <td>0.5719</td>\n",
       "    </tr>\n",
       "    <tr>\n",
       "      <th>2</th>\n",
       "      <td>3781</td>\n",
       "      <td>42.36413</td>\n",
       "      <td>-71.02991</td>\n",
       "      <td>The apartment description is entirely faithful...</td>\n",
       "      <td>132.0</td>\n",
       "      <td>East Boston</td>\n",
       "      <td>0.9537</td>\n",
       "    </tr>\n",
       "    <tr>\n",
       "      <th>3</th>\n",
       "      <td>3781</td>\n",
       "      <td>42.36413</td>\n",
       "      <td>-71.02991</td>\n",
       "      <td>Thoroughly enjoyed my time at Frank's home. Ha...</td>\n",
       "      <td>132.0</td>\n",
       "      <td>East Boston</td>\n",
       "      <td>0.9780</td>\n",
       "    </tr>\n",
       "    <tr>\n",
       "      <th>4</th>\n",
       "      <td>3781</td>\n",
       "      <td>42.36413</td>\n",
       "      <td>-71.02991</td>\n",
       "      <td>Great value for the money! This location has e...</td>\n",
       "      <td>132.0</td>\n",
       "      <td>East Boston</td>\n",
       "      <td>0.9263</td>\n",
       "    </tr>\n",
       "  </tbody>\n",
       "</table>\n",
       "</div>"
      ],
      "text/plain": [
       "   listing_id  latitude  longitude  \\\n",
       "0        3781  42.36413  -71.02991   \n",
       "1        3781  42.36413  -71.02991   \n",
       "2        3781  42.36413  -71.02991   \n",
       "3        3781  42.36413  -71.02991   \n",
       "4        3781  42.36413  -71.02991   \n",
       "\n",
       "                                            comments  price  \\\n",
       "0  The apartment was as advertised and Frank was ...  132.0   \n",
       "1  It was a pleasure to stay at Frank's place. Th...  132.0   \n",
       "2  The apartment description is entirely faithful...  132.0   \n",
       "3  Thoroughly enjoyed my time at Frank's home. Ha...  132.0   \n",
       "4  Great value for the money! This location has e...  132.0   \n",
       "\n",
       "  neighbourhood_cleansed  scores  \n",
       "0            East Boston  0.8070  \n",
       "1            East Boston  0.5719  \n",
       "2            East Boston  0.9537  \n",
       "3            East Boston  0.9780  \n",
       "4            East Boston  0.9263  "
      ]
     },
     "execution_count": 36,
     "metadata": {},
     "output_type": "execute_result"
    }
   ],
   "source": [
    "df_location.head()"
   ]
  },
  {
   "cell_type": "code",
   "execution_count": 39,
   "id": "9785e451",
   "metadata": {},
   "outputs": [
    {
     "data": {
      "text/plain": [
       "listing_id\n",
       "4090224               821\n",
       "815639                761\n",
       "18290558              758\n",
       "916123                750\n",
       "18584891              691\n",
       "                     ... \n",
       "638491618000627769      1\n",
       "638473569363708335      1\n",
       "677637597503515284      1\n",
       "43032495                1\n",
       "731257486642956305      1\n",
       "Name: count, Length: 2741, dtype: int64"
      ]
     },
     "execution_count": 39,
     "metadata": {},
     "output_type": "execute_result"
    }
   ],
   "source": [
    "df_location.listing_id.value_counts()"
   ]
  },
  {
   "cell_type": "code",
   "execution_count": 40,
   "id": "9de80f9d",
   "metadata": {},
   "outputs": [
    {
     "data": {
      "text/plain": [
       "0         False\n",
       "1         False\n",
       "2         False\n",
       "3         False\n",
       "4         False\n",
       "          ...  \n",
       "162911    False\n",
       "162912    False\n",
       "162913    False\n",
       "162914    False\n",
       "162915    False\n",
       "Name: listing_id, Length: 162876, dtype: bool"
      ]
     },
     "execution_count": 40,
     "metadata": {},
     "output_type": "execute_result"
    }
   ],
   "source": [
    "df_location.listing_id == 409224"
   ]
  },
  {
   "cell_type": "code",
   "execution_count": null,
   "id": "a279eeee",
   "metadata": {},
   "outputs": [],
   "source": []
  },
  {
   "cell_type": "code",
   "execution_count": null,
   "id": "360afa6d",
   "metadata": {},
   "outputs": [],
   "source": []
  },
  {
   "cell_type": "code",
   "execution_count": 30,
   "id": "fc2101f3",
   "metadata": {},
   "outputs": [],
   "source": [
    "# This filters out the exact zero scores, which aren't processed\n",
    "df_loc = df_location[df_location['scores'] != 0 ]"
   ]
  },
  {
   "cell_type": "code",
   "execution_count": 25,
   "id": "05824d12",
   "metadata": {},
   "outputs": [
    {
     "data": {
      "text/plain": [
       "(162876, 156275)"
      ]
     },
     "execution_count": 25,
     "metadata": {},
     "output_type": "execute_result"
    }
   ],
   "source": [
    "len(df_location), len(df_loc)"
   ]
  },
  {
   "cell_type": "code",
   "execution_count": 23,
   "id": "0e4f8f98",
   "metadata": {},
   "outputs": [
    {
     "data": {
      "text/html": [
       "<div>\n",
       "<style scoped>\n",
       "    .dataframe tbody tr th:only-of-type {\n",
       "        vertical-align: middle;\n",
       "    }\n",
       "\n",
       "    .dataframe tbody tr th {\n",
       "        vertical-align: top;\n",
       "    }\n",
       "\n",
       "    .dataframe thead th {\n",
       "        text-align: right;\n",
       "    }\n",
       "</style>\n",
       "<table border=\"1\" class=\"dataframe\">\n",
       "  <thead>\n",
       "    <tr style=\"text-align: right;\">\n",
       "      <th></th>\n",
       "      <th>latitude</th>\n",
       "      <th>longitude</th>\n",
       "      <th>comments</th>\n",
       "      <th>price</th>\n",
       "      <th>neighbourhood_cleansed</th>\n",
       "      <th>scores</th>\n",
       "    </tr>\n",
       "  </thead>\n",
       "  <tbody>\n",
       "    <tr>\n",
       "      <th>0</th>\n",
       "      <td>42.36413</td>\n",
       "      <td>-71.02991</td>\n",
       "      <td>The apartment was as advertised and Frank was ...</td>\n",
       "      <td>132.0</td>\n",
       "      <td>East Boston</td>\n",
       "      <td>0.8070</td>\n",
       "    </tr>\n",
       "    <tr>\n",
       "      <th>1</th>\n",
       "      <td>42.36413</td>\n",
       "      <td>-71.02991</td>\n",
       "      <td>It was a pleasure to stay at Frank's place. Th...</td>\n",
       "      <td>132.0</td>\n",
       "      <td>East Boston</td>\n",
       "      <td>0.5719</td>\n",
       "    </tr>\n",
       "    <tr>\n",
       "      <th>2</th>\n",
       "      <td>42.36413</td>\n",
       "      <td>-71.02991</td>\n",
       "      <td>The apartment description is entirely faithful...</td>\n",
       "      <td>132.0</td>\n",
       "      <td>East Boston</td>\n",
       "      <td>0.9537</td>\n",
       "    </tr>\n",
       "    <tr>\n",
       "      <th>3</th>\n",
       "      <td>42.36413</td>\n",
       "      <td>-71.02991</td>\n",
       "      <td>Thoroughly enjoyed my time at Frank's home. Ha...</td>\n",
       "      <td>132.0</td>\n",
       "      <td>East Boston</td>\n",
       "      <td>0.9780</td>\n",
       "    </tr>\n",
       "    <tr>\n",
       "      <th>4</th>\n",
       "      <td>42.36413</td>\n",
       "      <td>-71.02991</td>\n",
       "      <td>Great value for the money! This location has e...</td>\n",
       "      <td>132.0</td>\n",
       "      <td>East Boston</td>\n",
       "      <td>0.9263</td>\n",
       "    </tr>\n",
       "  </tbody>\n",
       "</table>\n",
       "</div>"
      ],
      "text/plain": [
       "   latitude  longitude                                           comments  \\\n",
       "0  42.36413  -71.02991  The apartment was as advertised and Frank was ...   \n",
       "1  42.36413  -71.02991  It was a pleasure to stay at Frank's place. Th...   \n",
       "2  42.36413  -71.02991  The apartment description is entirely faithful...   \n",
       "3  42.36413  -71.02991  Thoroughly enjoyed my time at Frank's home. Ha...   \n",
       "4  42.36413  -71.02991  Great value for the money! This location has e...   \n",
       "\n",
       "   price neighbourhood_cleansed  scores  \n",
       "0  132.0            East Boston  0.8070  \n",
       "1  132.0            East Boston  0.5719  \n",
       "2  132.0            East Boston  0.9537  \n",
       "3  132.0            East Boston  0.9780  \n",
       "4  132.0            East Boston  0.9263  "
      ]
     },
     "execution_count": 23,
     "metadata": {},
     "output_type": "execute_result"
    }
   ],
   "source": [
    "df_loc.head()"
   ]
  },
  {
   "cell_type": "code",
   "execution_count": 33,
   "id": "ba72e65d",
   "metadata": {},
   "outputs": [
    {
     "data": {
      "image/png": "[encoded data removed]",
      "text/plain": [
       "<Figure size 640x480 with 1 Axes>"
      ]
     },
     "metadata": {},
     "output_type": "display_data"
    }
   ],
   "source": [
    "sns.set()\n",
    "sns.histplot(df_loc.scores)\n",
    "#sns.histplot(df_loc.price)\n",
    "plt.show()"
   ]
  },
  {
   "cell_type": "code",
   "execution_count": null,
   "id": "1e174418",
   "metadata": {},
   "outputs": [],
   "source": []
  },
  {
   "cell_type": "code",
   "execution_count": 15,
   "id": "31c98b20",
   "metadata": {},
   "outputs": [
    {
     "data": {
      "image/png": "[encoded data removed]",
      "text/plain": [
       "<Figure size 640x480 with 1 Axes>"
      ]
     },
     "metadata": {},
     "output_type": "display_data"
    }
   ],
   "source": [
    "sns.set()\n",
    "sns.histplot(df_location.scores)\n",
    "plt.show()"
   ]
  },
  {
   "cell_type": "code",
   "execution_count": null,
   "id": "cc8d8c9d",
   "metadata": {},
   "outputs": [],
   "source": []
  },
  {
   "cell_type": "code",
   "execution_count": null,
   "id": "56436e5d",
   "metadata": {},
   "outputs": [],
   "source": []
  },
  {
   "cell_type": "code",
   "execution_count": null,
   "id": "3668d934",
   "metadata": {},
   "outputs": [],
   "source": []
  },
  {
   "cell_type": "code",
   "execution_count": null,
   "id": "d1605e9c",
   "metadata": {},
   "outputs": [],
   "source": []
  }
 ],
 "metadata": {
  "kernelspec": {
   "display_name": "Python 3 (ipykernel)",
   "language": "python",
   "name": "python3"
  },
  "language_info": {
   "codemirror_mode": {
    "name": "ipython",
    "version": 3
   },
   "file_extension": ".py",
   "mimetype": "text/x-python",
   "name": "python",
   "nbconvert_exporter": "python",
   "pygments_lexer": "ipython3",
   "version": "3.11.5"
  }
 },
 "nbformat": 4,
 "nbformat_minor": 5
}
